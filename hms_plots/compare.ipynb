{
 "cells": [
  {
   "cell_type": "code",
   "execution_count": null,
   "id": "4d58bf2b-eebc-4b30-b2e3-276c62463381",
   "metadata": {},
   "outputs": [],
   "source": [
    "# script to look at CCQEMAT output and check the effects of a 15 GeV/c cut on p||\n",
    "# Heidi Schellman, November 28, 2022\n",
    "\n",
    "from ROOT import *\n",
    "from PlotUtils import *\n",
    "import sys,os, time"
   ]
  },
  {
   "cell_type": "code",
   "execution_count": null,
   "id": "73cbe4c5-5eea-4666-a395-2dd3d545638e",
   "metadata": {},
   "outputs": [],
   "source": [
    "c1 = TCanvas()\n",
    "c1.cd()\n",
    "# what are these files?  they are the full anti-nu data sample run through the new CCQEMAT framework. They differ in the p|| cut on the muon,\n",
    "# 100 GeV is the loose cut, #15 is the tight cut. \n",
    "dir2 = \"$HOME/Dropbox/CCQE/val2\"\n",
    "dir1 = \"$HOME/Dropbox/CCQE/example_v1\"\n",
    "MnvTunev2 = os.path.join(dir2,\"val2_tuned_analyze9.root\")\n",
    "norm = os.path.join(dir1,\"MnvTunev1_tuned_analyze9.root\")\n"
   ]
  },
  {
   "cell_type": "code",
   "execution_count": null,
   "id": "9fc38ecb-76d0-40b3-a3e5-ae137a5b44a6",
   "metadata": {},
   "outputs": [],
   "source": [
    "f = TFile.Open(MnvTunev2,\"READONLY\")\n",
    "g = TFile.Open(norm,\"READONLY\")\n",
    "\n",
    "# these are the parent files - to check on migration\n",
    "fm = TFile.Open(os.path.join(dir2,\"val2.root\"))\n",
    "gm = TFile.Open(os.path.join(dir1,\"MnvTunev1.root\"))\n",
    "\n",
    "var = \"ptmu\""
   ]
  },
  {
   "cell_type": "code",
   "execution_count": null,
   "id": "e849f28f-4727-47b9-b0be-311b3df2907b",
   "metadata": {},
   "outputs": [],
   "source": [
    "# define the plots you want to look at and their format.\n",
    "types = [\"bkgsub\",\"bkgsub_unfolded\",\"bkgsub_unfolded_effcorr\",\"bkgsub_unfolded_effcorr_sigma\",\"sigmaMC\"]\n",
    "colors = {\"bkgsub\":1,\"bkgsub_unfolded\":2,\"bkgsub_unfolded_effcorr\":4,\"bkgsub_unfolded_effcorr_sigma\":8,\"sigmaMC\":6}\n",
    "markers = {\"bkgsub\":20,\"bkgsub_unfolded\":21,\"bkgsub_unfolded_effcorr\":22,\"bkgsub_unfolded_effcorr_sigma\":23,\"sigmaMC\":24}\n",
    "styles = {\"bkgsub\":0,\"bkgsub_unfolded\":0,\"bkgsub_unfolded_effcorr\":0,\"bkgsub_unfolded_effcorr_sigma\":1,\"sigmaMC\":7}\n",
    "print (\"done with setup\")"
   ]
  },
  {
   "cell_type": "code",
   "execution_count": null,
   "id": "94ec027b-efe5-44ac-93be-469fcc336c6d",
   "metadata": {},
   "outputs": [],
   "source": [
    "# read in one of the inputs and make certain it has a decent migration \n",
    "f.cd()\n",
    "h_var_MnvTunev2 = {}\n",
    "for type in types:\n",
    "    h_var_MnvTunev2[type] = MnvH1D()\n",
    "    h_var_MnvTunev2[type] = f.Get(\"h_QElike_\"+var+\"_\"+type)\n",
    "mig1 = MnvH2D()\n",
    "mig1 = fm.Get(\"h___QElike___qelike___\"+var+\"___response_tuned_migration\")\n",
    "mig1.Draw(\"colz\")\n",
    "c1.Draw()"
   ]
  },
  {
   "cell_type": "code",
   "execution_count": null,
   "id": "3c667a46-34f4-4b0f-a9b3-ae1a16f97964",
   "metadata": {},
   "outputs": [],
   "source": [
    "g.cd()\n",
    "h_var_MnvTunev1 = {}\n",
    "for type in types:\n",
    "    h_var_MnvTunev1[type] = MnvH1D()\n",
    "    h_var_MnvTunev1[type] = g.Get(\"h_QElike_\"+var+\"_\"+type)\n",
    "mig2 = MnvH2D()\n",
    "mig2 = gm.Get(\"h___QElike___qelike___\"+var+\"___response_tuned_migration\")\n",
    "mig2.Draw(\"colz\")\n",
    "c1.Draw()"
   ]
  },
  {
   "cell_type": "code",
   "execution_count": null,
   "id": "2870690a-d830-4b66-aa58-6de55a297105",
   "metadata": {},
   "outputs": [],
   "source": [
    "# loop over the types and make ratios for each level of processing\n",
    "\n",
    "r = {}\n",
    "for type in types:\n",
    "    r[type] = MnvH1D()\n",
    "    r[type] = h_var_MnvTunev2[type].Clone(\"ratio\")\n",
    "    opt = \"B\"\n",
    "    if \"sigma\" in type:\n",
    "        opt = \"\"\n",
    "    r[type].Divide(h_var_MnvTunev2[type],h_var_MnvTunev1[type],1.,1.,opt)"
   ]
  },
  {
   "cell_type": "code",
   "execution_count": null,
   "id": "1ffadb90-c2ef-4149-a764-e7cbce841824",
   "metadata": {},
   "outputs": [],
   "source": [
    "# now plot all of the different levels\n",
    "\n",
    "count = 0\n",
    "leg = TLegend()\n",
    "leg.SetHeader(\"Effect of p|| cut\")\n",
    "gStyle.SetOptStat(0)\n",
    "for type in types:\n",
    "    count +=1\n",
    "    r[type].GetYaxis().SetTitle(\"MnvTunev2/MnvTunev1\")\n",
    "    \n",
    "    opt = \"PE same\"\n",
    "    if count == 1:\n",
    "        opt = \"PE\"\n",
    "    if \"sigma\" in type:\n",
    "        opt = \"hist same\"\n",
    "        r[type].SetMarkerSize(0.5)\n",
    "    r[type].SetMarkerColor(colors[type])\n",
    "    r[type].SetLineColor(colors[type])\n",
    "    r[type].SetMarkerStyle(markers[type])\n",
    "    r[type].SetLineStyle(styles[type])\n",
    "    \n",
    "    r[type].SetMaximum(1.2)\n",
    "    r[type].SetMinimum(0.50)\n",
    "    \n",
    "    leg.AddEntry(r[type],type,\"lpe\")\n",
    "    r[type].Draw(opt)\n",
    "    \n",
    "    \n",
    "leg.Draw()\n",
    "c1.SetLogx()\n",
    "c1.Draw()\n"
   ]
  },
  {
   "cell_type": "code",
   "execution_count": null,
   "id": "27b2529e-bc09-41ec-ac16-f5c4f277ec90",
   "metadata": {},
   "outputs": [],
   "source": [
    "# conclusion, the 15 GeV cut reduces the rate by about 1% all the way across. \n"
   ]
  },
  {
   "cell_type": "code",
   "execution_count": null,
   "id": "c574d458-1531-45cd-bed7-ca4d4593de3e",
   "metadata": {},
   "outputs": [],
   "source": [
    "# now compare to Amit's cross section.  \n",
    "amitDir = \"$HOME/Dropbox/CCQE/v27b/ver2\"\n",
    "\n",
    "f_amit = TFile.Open(os.path.join(amitDir,\"XS_q2_proj_CV_rebinned.root\"),\"READONLY\")\n",
    "amit2D = MnvH2D()\n",
    "if var == \"Q2QE\":\n",
    "    amit2D = f_amit.Get(\"h_enu_var_dataCrossSection\").GetCVHistoWithStatError()\n",
    "if \"mu\" in var:\n",
    "    f_amit = TFile.Open(os.path.join(amitDir,\"XS_pzmu_CV.root\"),\"READONLY\")\n",
    "    amit2D = f_amit.Get(\"h_pzmu_ptmu_dataCrossSection\").GetCVHistoWithStatError()\n",
    "amit1D = amit2D.ProjectionY()\n",
    "if var ==\"pzmu\": \n",
    "    amit1D = amit2D.ProjectionX()\n",
    "\n",
    "amit1D.Scale(1.,\"width\")\n",
    "amit1D.Print()\n",
    "leg = TLegend()\n",
    "leg.SetHeader(\"Compare to Amit\")\n",
    "leg.AddEntry(amit1D,\"Amit\",\"lpe\")\n",
    "c1.SetLogx(1)\n",
    "c1.SetLogy(1)\n",
    "amit1D.Draw(\"pe\")\n",
    "nocut=h_var_MnvTunev2[\"bkgsub_unfolded_effcorr_sigma\"].GetCVHistoWithStatError()\n",
    "cut=h_var_MnvTunev1[\"bkgsub_unfolded_effcorr_sigma\"].GetCVHistoWithStatError()\n",
    "leg.AddEntry(nocut,\"MnvTunev2\",\"lpe\")\n",
    "leg.AddEntry(cut,\"MnvTunev1\",\"lpe\")\n",
    "nocut.Scale(1.0,\"width\")\n",
    "cut.SetLineColor(2)\n",
    "cut.Scale(1.,\"width\")\n",
    "nocut.Draw(\"hist same\")\n",
    "cut.Draw(\"hist same\")\n",
    "leg.Draw()\n",
    "c1.Draw()\n"
   ]
  },
  {
   "cell_type": "code",
   "execution_count": null,
   "id": "332e5963-3cc2-484f-82df-3c6dec32a9ae",
   "metadata": {},
   "outputs": [],
   "source": [
    "c1.SetLogy(0)\n",
    "r = MnvH1D()\n",
    "u = MnvH1D()\n",
    "m = MnvH1D()\n",
    "a = MnvH1D()\n",
    "r = h_var_MnvTunev1[\"bkgsub_unfolded_effcorr_sigma\"].Clone()\n",
    "u = h_var_MnvTunev2[\"bkgsub_unfolded_effcorr_sigma\"].Clone()\n",
    "r.Scale(1.,\"width\")\n",
    "u.Scale(1.,\"width\")\n",
    "a = amit1D.Clone()\n",
    "m = h_var_MnvTunev1[\"sigmaMC\"].Clone()\n",
    "m.Scale(1.,\"width\")\n",
    "r.Divide(r,m,1.,1.)\n",
    "u.Divide(u,m,1.,1.)\n",
    "a.Divide(a,m,1.,1.)\n",
    "m.Divide(m,m,1.,1.)\n",
    "u.SetLineColor(6)\n",
    "r.SetLineColor(4)\n",
    "u.SetMarkerStyle(24)\n",
    "r.SetMarkerStyle(20)\n",
    "r.SetMarkerColor(4)\n",
    "u.SetMarkerColor(6)\n",
    "r.GetYaxis().SetTitle(\"ratio to MnvTunev1 sigmaMC\")\n",
    "leg = TLegend(.2,.7,.5,.9)\n",
    "leg.SetHeader(\"Compare to Amit\")\n",
    "leg.AddEntry(r,\"MnvTunev1\",\"pe\")\n",
    "leg.AddEntry(u,\"MnvTunev2\",\"pel\")\n",
    "leg.AddEntry(a,\"Amit\",\"pe\")\n",
    "leg.AddEntry(m,\"sigmaMC\",\"l\")\n",
    "r.SetMaximum(1.4)\n",
    "r.SetMinimum(0.8)\n",
    "r.Draw(\"PE\")\n",
    "u.Draw(\"PE same\")\n",
    "a.Draw(\"PE same\")\n",
    "m.Draw(\"hist same\")\n",
    "leg.Draw()\n",
    "c1.Draw()"
   ]
  },
  {
   "cell_type": "code",
   "execution_count": null,
   "id": "9c1e4af9-0b15-44cf-966c-f27b1dd06968",
   "metadata": {},
   "outputs": [],
   "source": [
    "# I was using the funky migration matrices for this so not unexpected. "
   ]
  },
  {
   "cell_type": "code",
   "execution_count": null,
   "id": "c6c82a92-726e-406a-8f8d-e0761997417e",
   "metadata": {},
   "outputs": [],
   "source": []
  }
 ],
 "metadata": {
  "language_info": {
   "name": "python"
  }
 },
 "nbformat": 4,
 "nbformat_minor": 5
}
