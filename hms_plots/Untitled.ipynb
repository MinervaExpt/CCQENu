{
 "cells": [
  {
   "cell_type": "code",
   "execution_count": null,
   "id": "b44eecb7-f8b0-4308-b790-d09ed398f15c",
   "metadata": {},
   "outputs": [],
   "source": [
    "import ROOT\n",
    "import PlotUtils\n",
    "ROOT.TH1.AddDirectory(ROOT.kFALSE)"
   ]
  },
  {
   "cell_type": "code",
   "execution_count": null,
   "id": "341e3b51-24f8-49b1-81eb-f1bfb16a7b44",
   "metadata": {},
   "outputs": [],
   "source": [
    "f = ROOT.TFile.Open(\"../make_hists/CCQENu_minervame5A_MnvTunev2_QElike_Test_10.root\",\"READONLY\")"
   ]
  },
  {
   "cell_type": "code",
   "execution_count": null,
   "id": "aa20f342-e9bc-49eb-b74c-22d2d86f24c0",
   "metadata": {},
   "outputs": [],
   "source": [
    "#f.ls()\n",
    "\n",
    "template = \"h___QElike___qelike___ThetamuDegrees_resolution___resolution\"\n",
    "\n",
    "v = [\"Q2QE\",\n",
    "\t\t\"pzmu\",\n",
    "\t\t\"ptmu\",\n",
    "\t\t\"Enu\",\n",
    "\t\t\"EnuCCQE\",\n",
    "\t\t\"ThetamuDegrees\",\n",
    "\t\t\"ThetaXmuDegrees\",\n",
    "\t\t\"ThetaYmuDegrees\"]\n",
    "h= {}\n",
    "cs = {}\n",
    "ROOT.gStyle.SetOptStat(1111)\n",
    "ROOT.gStyle.SetOptFit(11111)\n",
    "ROOT.gStyle.SetEndErrorSize(10)"
   ]
  },
  {
   "cell_type": "code",
   "execution_count": null,
   "id": "5e570cde-f9d5-4806-9c62-38ad888e9249",
   "metadata": {},
   "outputs": [],
   "source": [
    "for var in v:\n",
    "    cs[var]=ROOT.TCanvas()\n",
    "    h[var] = ROOT.MnvH1D()\n",
    "    h[var] = f.Get(template.replace(\"ThetamuDegrees\",var))\n",
    "    if h[var] == None:\n",
    "        print (\"could not find\",var)\n",
    "        continue   \n",
    "    h[var].Draw(\"PE\")\n",
    "    h[var].Fit(\"gaus\")\n",
    "    cs[var].Draw()\n",
    "    "
   ]
  },
  {
   "cell_type": "code",
   "execution_count": null,
   "id": "b8321734-51fa-40d3-a8d7-58fcdd54c450",
   "metadata": {},
   "outputs": [],
   "source": [
    "milliradians = .022*(3.14159/180.)*1000\n",
    "print (milliradians )"
   ]
  },
  {
   "cell_type": "code",
   "execution_count": null,
   "id": "2942bd7e-c85f-485f-b096-f6cc6ca46ce5",
   "metadata": {},
   "outputs": [],
   "source": []
  }
 ],
 "metadata": {
  "language_info": {
   "name": "python"
  }
 },
 "nbformat": 4,
 "nbformat_minor": 5
}
