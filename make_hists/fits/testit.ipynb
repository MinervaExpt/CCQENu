{
 "cells": [
  {
   "cell_type": "code",
   "execution_count": null,
   "metadata": {},
   "outputs": [],
   "source": [
    "import os,sys\n",
    "import numpy as np\n",
    "import ROOT\n",
    "import commentjson\n",
    "import PlotUtils"
   ]
  },
  {
   "cell_type": "code",
   "execution_count": null,
   "metadata": {},
   "outputs": [],
   "source": [
    "#def gethists(config):\n",
    "configname = \"./Try.json\"\n",
    "f = open(configname,'r')\n",
    "config = commentjson.load(f)\n",
    "if (True): \n",
    "    lowBin = 1\n",
    "    if \"LowBin\" in config: \n",
    "        lowBin = config[\"LowBin\"]\n",
    "    \n",
    "    upperLimit=2.0\n",
    "    if \"UpperLimit\" in config:\n",
    "        upperLimit =config[\"UpperLimit\"]\n",
    "    \n",
    "    inputFileName=config[\"InputFile\"]\n",
    "    outputFileName = config[\"OutputFile\"]\n",
    "    logPlot = config[\"LogPlot\"]\n",
    "    logMinimum = config[\"LogMinimum\"]\n",
    "    sidebands = config[\"Sidebands\"]\n",
    "    categories = config[\"Categories\"]\n",
    "    \n",
    "    # use this to exclude or include sidebands in the global fit\n",
    "    include = config[\"IncludeInFit\"]\n",
    "    backgrounds = config[\"Backgrounds\"]\n",
    "    \n",
    "\n",
    "    includeInFit={}\n",
    "    for s in sidebands:\n",
    "        includeInFit[s] = False\n",
    "        for  i in include:\n",
    "            if (s == i): includeInFit[s] = True\n",
    "        \n",
    "    \n",
    "    varName = config[\"Variable\"]\n",
    "    fitType = config[\"FitType\"]\n",
    "    h_template = config[\"Template\"]\n",
    "    f_template = config[\"FitTemplate\"]\n",
    "\n",
    "    rebin=1\n",
    "    if \"Rebin\" in config:\n",
    "        rebin = config[\"Rebin\"]\n",
    "\n",
    "    inputFile = ROOT.TFile.Open(inputFileName,\"READ\")\n",
    "    outputfile = ROOT.TFile.Open(outputFileName,\"RECREATE\")\n",
    "    #loop on all entries of this directory\n",
    "    \n",
    "    outputfile.cd()\n",
    "    \n",
    "    pot_summary = inputFile.Get(\"POT_summary\")\n",
    "    potinfo = np.array([0.0,0.0])\n",
    "    potinfo[0]=pot_summary.GetBinContent(1)\n",
    "    potinfo[1]=pot_summary.GetBinContent(3) # this includes any prescale\n",
    "    pot_summary.Print(\"ALL\")\n",
    "    mcPOT = potinfo[1]\n",
    "    dataPOT = potinfo[0]\n",
    "    print (\"POT\", dataPOT,mcPOT)\n",
    "    POTscale = potinfo[0]/potinfo[1]\n",
    "  \n",
    "    print (\"POT scale factor: \" , POTscale)\n",
    "    \n",
    "    # make and fill maps that contain poers to the histograms you want to fit  uses CCQEMAT template\n",
    "    \n",
    "    #h_template = \"h___%s___%s___%s___reconstructed\";\n",
    "    dataHist = {}\n",
    "    fitHists = {}\n",
    "    unfitHists = {}\n",
    "    \n",
    "    name = config[\"Variable\"]\n",
    "\n",
    "    for side in sidebands:\n",
    "        cat = \"data\"\n",
    "        cname = h_template%(side, cat,varName)\n",
    "        cname = h_template%(side, cat,varName)\n",
    "        fname = f_template%(side, cat,varName)\n",
    "        print ( \" look for \" , cname )\n",
    "        dataHist[side] = PlotUtils.MnvH1D()\n",
    "        dataHist[side] = inputFile.Get(cname)\n",
    "        \n",
    "        dataHist[side].Rebin(rebin);\n",
    "        unfitHists[side] = []\n",
    "        fitHists[side] = []\n",
    "        print ( \" nbins \" , cname , \" \" , dataHist[side].GetXaxis().GetNbins() )\n",
    "        if (logPlot): dataHist[side].SetMinimum(logMinimum);\n",
    "        #dataHist[side].SetNormBinWidth(1.0);\n",
    "        #dataHist[sidename] = (TH1D*)dataHist.GetCVHistoWithStatError().Clone();\n",
    "        for  cat in categories:\n",
    "            cname = h_template%(side, cat,varName)\n",
    "            fname = f_template%(side, cat,varName)\n",
    "            name = cname\n",
    "            print ( \" look for \" , cname )\n",
    "            newhist = PlotUtils.MnvH1D()\n",
    "            newhist = inputFile.Get(cname)\n",
    "            if not newhist:\n",
    "                print ( \" no \" , cname )\n",
    "            \n",
    "            newhist.Rebin(rebin);\n",
    "            if (logPlot): newhist.SetMinimum(logMinimum)\n",
    "            print ( \"nbins \" , cname , \" \" , newhist.GetXaxis().GetNbins() )\n",
    "            newhist.Print()\n",
    "            newhist.Scale(POTscale)\n",
    "            newhist.Print()\n",
    "            unfitHists[side].append(newhist)\n",
    "            fitHists[side].append(newhist.Clone(fname))\n",
    "            \n",
    "        \n",
    "        # /*for ( i = 0; i < categories.size(); i++){\n",
    "        #     unfitHists[side][i].SetNormBinWidth(1.0);\n",
    "        #     fitHists[side][i].SetNormBinWidth(1.0);\n",
    "        # }*/\n",
    "    \n",
    "  "
   ]
  },
  {
   "cell_type": "code",
   "execution_count": null,
   "metadata": {},
   "outputs": [],
   "source": []
  },
  {
   "cell_type": "code",
   "execution_count": null,
   "metadata": {},
   "outputs": [],
   "source": [
    "configname = \"./Try.json\"\n",
    "f = open(configname,'r')\n",
    "config = commentjson.load(f)\n",
    "gethists(config)\n"
   ]
  },
  {
   "cell_type": "code",
   "execution_count": null,
   "metadata": {},
   "outputs": [],
   "source": [
    "values = np.array([1.28121225775791303e+00,9.26752433073161686e-01,2.34814205775936458e+00,1.19256001977170878e+00,2.06809555409070267e+00])"
   ]
  },
  {
   "cell_type": "code",
   "execution_count": null,
   "metadata": {},
   "outputs": [],
   "source": [
    "testarray = [[4.37913794018177847e-05,-2.70534311853663019e-04,7.68293601191285961e-04,-1.01035963754613244e-06,-6.33620216728098760e-05],\n",
    "[-2.70534311853663019e-04,3.72604389054405870e-03,-1.18219944391336363e-02,-4.50352671609323995e-05,7.55635486379529001e-03],\n",
    "[7.68293601191285961e-04,-1.18219944391336363e-02,4.08349797094741951e-02,1.10370908939183272e-03,-7.19945013816742918e-02],\n",
    "[-1.01035963754613244e-06,-4.50352671609323995e-05,1.10370908939183272e-03,7.35760891367070124e-04,-2.95373032784254745e-02],\n",
    "[-6.33620216728098760e-05,7.55635486379529001e-03,-7.19945013816742918e-02,-2.95373032784254745e-02,1.25567293391937773e+00]]\n",
    "\n",
    "testarray = [[4.51788475382673715e-05,-2.85364565733574869e-04,8.06084163862019428e-04,1.97705040158106509e-06,-8.40679740034714436e-05],\n",
    "[-2.85364565733574869e-04,3.93866790473751654e-03,-1.25468028770457200e-02,-1.61393981126265563e-04,1.16813750019919144e-02],\n",
    "[8.06084163862019428e-04,-1.25468028770457200e-02,4.43479016837736995e-02,2.13451152907324221e-03,-1.14147245052297855e-01],\n",
    "[1.97705040158106509e-06,-1.61393981126265563e-04,2.13451152907324221e-03,1.29665819930366560e-03,-5.22224042559752202e-02],\n",
    "[-8.40679740034714436e-05,1.16813750019919144e-02,-1.14147245052297855e-01,-5.22224042559752202e-02,2.19307068295353469e+00]]"
   ]
  },
  {
   "cell_type": "code",
   "execution_count": null,
   "metadata": {},
   "outputs": [],
   "source": [
    "print (testarray)"
   ]
  },
  {
   "cell_type": "code",
   "execution_count": null,
   "metadata": {},
   "outputs": [],
   "source": [
    "testvalues = [1.27933918566519456e+00,9.71067727320098717e-01,2.22202915442571713e+00,1.13399764790330382e+00,3.68119190607679014e+00]"
   ]
  },
  {
   "cell_type": "code",
   "execution_count": null,
   "metadata": {},
   "outputs": [],
   "source": [
    "errors = np.zeros(5)\n",
    "for i in range(0,5):\n",
    "    errors[i] = np.sqrt(testarray[i][i])\n",
    "\n",
    "pr (errors)\n",
    "\n",
    "array = np.array(testarray)\n",
    "pr (array)\n",
    "\n",
    "correlations = array.copy()\n",
    "for i in range(0,5):\n",
    "    for j in range(0,5):\n",
    "        correlations[i][j] = array[i][j]/errors[i]/errors[j]\n",
    "\n",
    "pr (correlations)\n",
    "\n",
    "\n",
    "\n",
    "parameters = np.array(testvalues)"
   ]
  },
  {
   "cell_type": "code",
   "execution_count": null,
   "metadata": {},
   "outputs": [],
   "source": [
    "eigvalues,eigvectors = np.linalg.eig(array)\n",
    "pr (eigvalues)\n",
    "pr (eigvectors)\n",
    "pr (np.round(eigvectors*100))"
   ]
  },
  {
   "cell_type": "code",
   "execution_count": null,
   "metadata": {},
   "outputs": [],
   "source": [
    "variants = []\n",
    "pr (values)\n",
    " \n",
    "for x in range(0,len(values)):\n",
    "    #pr (\"vec\",eigvectors[x])\n",
    "    vec = eigvectors[x]\n",
    "    new = eigvectors[x]*np.sqrt(eigvalues[x])\n",
    "    variants.append(new)\n",
    "    pr (\"new\",new)\n",
    "    \n"
   ]
  },
  {
   "cell_type": "code",
   "execution_count": null,
   "metadata": {},
   "outputs": [],
   "source": [
    "Print(testvalues)\n",
    "Print(testvalues + variants[0])\n",
    "Print(testvalues - variants[0])"
   ]
  }
 ],
 "metadata": {
  "language_info": {
   "name": "python"
  }
 },
 "nbformat": 4,
 "nbformat_minor": 4
}
